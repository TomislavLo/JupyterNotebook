{
 "cells": [
  {
   "cell_type": "markdown",
   "id": "9ba97f64-a35b-4750-b83c-7e99b4d3a0f7",
   "metadata": {},
   "source": [
    "Data Science Tools and Ecosystem"
   ]
  },
  {
   "cell_type": "markdown",
   "id": "5fd7c7f5-c299-4870-b594-8e20fa64bc64",
   "metadata": {},
   "source": [
    "In this notebook, Data Science Tools and Ecosystem are summarized."
   ]
  },
  {
   "cell_type": "markdown",
   "id": "00458d22-c085-46ea-8004-64df47355fd7",
   "metadata": {},
   "source": [
    "__Objectives__:\n",
    "- List popular languages for Data Science\n",
    "- List Data Science Tools\n",
    "- List libraries used by Data Scientist\n",
    "- A few examples of evaluating arithmetic expressions in Python"
   ]
  },
  {
   "cell_type": "markdown",
   "id": "985a1922-930b-4099-8a5e-a850fd0d5b1f",
   "metadata": {},
   "source": [
    "Some of the popular languages that Data Scientists use are:\n",
    "1. Python\n",
    "2. R\n",
    "3. SQL"
   ]
  },
  {
   "cell_type": "markdown",
   "id": "c436df7b-d97e-4eb1-a315-a740d7d7eb8b",
   "metadata": {},
   "source": [
    "Some of the commonly used libraries used by Data Scientists include:\n",
    "1. Numpy\n",
    "2. Scipy\n",
    "3. Seaborn"
   ]
  },
  {
   "cell_type": "markdown",
   "id": "950f8f75-3242-46d8-9bfb-0672fe2497b1",
   "metadata": {},
   "source": [
    "| Data Science Tools | \n",
    "|:------------------:|\n",
    "|  Pandas            |  \n",
    "|  Seaborn           |  \n",
    "|  Skicit-learn      |  "
   ]
  },
  {
   "cell_type": "markdown",
   "id": "72483558-f661-4a8e-a17d-e8c11b471c98",
   "metadata": {},
   "source": [
    "### Below are a few examples of evaluating arithmetic expressions in Python."
   ]
  },
  {
   "cell_type": "code",
   "execution_count": 19,
   "id": "67c41441-8161-4d4f-b819-fc7ec1640d42",
   "metadata": {},
   "outputs": [
    {
     "data": {
      "text/plain": [
       "17"
      ]
     },
     "execution_count": 19,
     "metadata": {},
     "output_type": "execute_result"
    }
   ],
   "source": [
    "#This a simple arithmetic expression to multiply then add integers\n",
    "(3*4)+5"
   ]
  },
  {
   "cell_type": "code",
   "execution_count": 21,
   "id": "f065caf6-cf7f-4a06-9106-97b234ebb2fe",
   "metadata": {},
   "outputs": [
    {
     "data": {
      "text/plain": [
       "3.3333333333333335"
      ]
     },
     "execution_count": 21,
     "metadata": {},
     "output_type": "execute_result"
    }
   ],
   "source": [
    "#This will convert 200 minutes to hours by diving by 60\n",
    "200/60"
   ]
  },
  {
   "cell_type": "markdown",
   "id": "dd6d6803-9c37-492b-a249-b6a04bfdb286",
   "metadata": {},
   "source": [
    "## Author:\n",
    "Tomislav Lovrinov"
   ]
  },
  {
   "cell_type": "code",
   "execution_count": null,
   "id": "a5828286-a207-4609-92e3-93783bc7780b",
   "metadata": {},
   "outputs": [],
   "source": []
  }
 ],
 "metadata": {
  "kernelspec": {
   "display_name": "Python 3 (ipykernel)",
   "language": "python",
   "name": "python3"
  },
  "language_info": {
   "codemirror_mode": {
    "name": "ipython",
    "version": 3
   },
   "file_extension": ".py",
   "mimetype": "text/x-python",
   "name": "python",
   "nbconvert_exporter": "python",
   "pygments_lexer": "ipython3",
   "version": "3.12.4"
  }
 },
 "nbformat": 4,
 "nbformat_minor": 5
}
